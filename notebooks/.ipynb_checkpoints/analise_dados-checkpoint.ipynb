{
 "cells": [
  {
   "cell_type": "code",
   "execution_count": null,
   "metadata": {
    "vscode": {
     "languageId": "plaintext"
    }
   },
   "outputs": [],
   "source": [
    "# No Jupyter Notebook, você importaria os módulos e executaria a análise assim:\n",
    "import pandas as pd\n",
    "from src.data_preprocessing import load_data, preprocess_data\n",
    "from src.data_analysis import analyze_incidents, trends_over_time\n",
    "from src.visualization import plot_incident_counts, plot_trends\n",
    "\n",
    "# Carregar e pré-processar os dados\n",
    "data = load_data('../data/incidents.csv')\n",
    "data = preprocess_data(data)\n",
    "\n",
    "# Analisar e visualizar os dados\n",
    "incident_counts = analyze_incidents(data)\n",
    "plot_incident_counts(incident_counts)\n",
    "\n",
    "trends = trends_over_time(data)\n",
    "plot_trends(trends)"
   ]
  }
 ],
 "metadata": {
  "language_info": {
   "name": "python"
  }
 },
 "nbformat": 4,
 "nbformat_minor": 2
}
